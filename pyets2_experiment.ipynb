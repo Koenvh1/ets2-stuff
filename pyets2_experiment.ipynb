{
 "cells": [
  {
   "cell_type": "markdown",
   "metadata": {},
   "source": [
    "# What is this?\n",
    "\n",
    "**pyets2** is an incomplete rewrite of [ets2-map][].\n",
    "\n",
    "The original [ets2-map][] was written in C# by [nlhans][]. It reads data from some [CSV][] lookup tables and from Euro Truck Simulator 2 game data.\n",
    "\n",
    "*pyets2* is written in Python 3.4 by [denilsonsa][]. It has/had these objectives:\n",
    "\n",
    "* Understand (and document) how ETS2 data is stored.\n",
    "* Provide an easier/faster way to visualize, manipulate and experiment with the data.\n",
    "    * Python is a scripting language, which provides a shorter and quicker write-execute cycle, when compared to C# (write-compile-restart-execute).\n",
    "    * Tools such as [IPython][] and [Jupyter][] enhance the workflow even further.\n",
    "* Allow (easier) cross-platform development of tools for ETS2.\n",
    "* Eventually, have enough features to automatically render a map of the entire game data.\n",
    "* Eventually, extend support to American Truck Simulator.\n",
    "* Eventually, if the SCS format was known, read data directly from `*.scs` files, without having to unpack them.\n",
    "\n",
    "# Current status\n",
    "\n",
    "**Incomplete.** Initial code has been written to read some game data and some lookup files.\n",
    "\n",
    "Due to other priorities, [denilsonsa][] [stopped working](https://github.com/mike-koch/ets2-mobile-route-advisor/issues/77#issuecomment-192982034) on this Python code and left several `TODO` comments on what needs to be done.\n",
    "\n",
    "# Setup instructions\n",
    "\n",
    "1. Download `scs_extractor.exe` from [ETS2 Mod tools][mod_tools] page.\n",
    "2. Use that tool to unpack both `base.scs` and `def.scs` files from the main game.\n",
    "3. Download [ets2-map][].\n",
    "4. Set the following variables:\n",
    "    * `pyets2.BASE_SCS_DIR` to the path where you extracted `base.scs`.\n",
    "    * `pyets2.DEF_SCS_DIR` to the path where you extracted `def.scs`.\n",
    "    * `pyets2.ETS2MAP_LUT_DIR` to the `LUT` directory inside [ets2-map][].\n",
    "\n",
    "# Further work\n",
    "\n",
    "Lots!\n",
    "\n",
    "If you want to continue the work on *pyets2*, follow the code on `Ets2Mapper.cs` and continue rewriting that code in Python. Of course, that will require rewriting several other classes from C# code in Python as well.\n",
    "\n",
    "# Using the game built-in editor\n",
    "\n",
    "Please read:\n",
    "\n",
    "* <http://www.promods.net/viewtopic.php?f=9&t=1326>\n",
    "* <http://forum.scssoft.com/viewtopic.php?f=11&t=61852>\n",
    "* <http://trucksim.wikia.com/wiki/Console>\n",
    "\n",
    "[ets2-map]: https://github.com/nlhans/ets2-map\n",
    "[ets2-map-mike]: https://github.com/mike-koch/ets2-map\n",
    "[denilsonsa]: https://github.com/denilsonsa\n",
    "[nlhans]: https://github.com/nlhans\n",
    "[mike-koch]: https://github.com/mike-koch\n",
    "[csv]: https://en.wikipedia.org/wiki/Comma-separated_values\n",
    "[jupyter]: http://jupyter.org/\n",
    "[ipython]: https://ipython.org/\n",
    "[mod_tools]: http://www.eurotrucksimulator2.com/mod_tools.php"
   ]
  },
  {
   "cell_type": "code",
   "execution_count": 1,
   "metadata": {
    "collapsed": false
   },
   "outputs": [],
   "source": [
    "import pyets2\n",
    "\n",
    "import pprint\n",
    "import os.path"
   ]
  },
  {
   "cell_type": "code",
   "execution_count": 5,
   "metadata": {
    "collapsed": false
   },
   "outputs": [
    {
     "data": {
      "text/plain": [
       "'/home/denilson/ets2/data/base_scs'"
      ]
     },
     "execution_count": 5,
     "metadata": {},
     "output_type": "execute_result"
    }
   ],
   "source": [
    "pyets2.BASE_SCS_DIR"
   ]
  },
  {
   "cell_type": "code",
   "execution_count": 6,
   "metadata": {
    "collapsed": false
   },
   "outputs": [
    {
     "data": {
      "text/plain": [
       "'/home/denilson/ets2/data/def_scs'"
      ]
     },
     "execution_count": 6,
     "metadata": {},
     "output_type": "execute_result"
    }
   ],
   "source": [
    "pyets2.DEF_SCS_DIR"
   ]
  },
  {
   "cell_type": "code",
   "execution_count": 7,
   "metadata": {
    "collapsed": false
   },
   "outputs": [
    {
     "data": {
      "text/plain": [
       "'/home/denilson/ets2/ets2-map/LUT'"
      ]
     },
     "execution_count": 7,
     "metadata": {},
     "output_type": "execute_result"
    }
   ],
   "source": [
    "pyets2.ETS2MAP_LUT_DIR"
   ]
  },
  {
   "cell_type": "code",
   "execution_count": 2,
   "metadata": {
    "collapsed": false,
    "scrolled": false
   },
   "outputs": [
    {
     "name": "stdout",
     "output_type": "stream",
     "text": [
      "UNEXPECTED! idx=120 already in idx2prefab.\n",
      "row: ['99', 'prefab.100', '78', '8', '', '']\n",
      "idx2prefab[idx]: prefab.52\n",
      "UNEXPECTED! idx=1522 already in idx2prefab.\n",
      "row: ['264', 'prefab.220', '5F2', '8', '', '']\n",
      "idx2prefab[idx]: prefab.110\n",
      "UNEXPECTED! idx=120 already in idx2prefab.\n",
      "row: ['266', 'prefab.222', '78', '8', '', 'd']\n",
      "idx2prefab[idx]: prefab.100\n"
     ]
    },
    {
     "data": {
      "text/plain": [
       "(Ets2Company.from_csv_line(['prefab.41', -50, 65, 55, -76], None),\n",
       " {'max_x': 55,\n",
       "  'max_y': -76,\n",
       "  'min_x': -50,\n",
       "  'min_y': 65,\n",
       "  'prefab': <Ets2Prefab idx=81 idsii='prefab.41' filename='/home/denilson/ets2/data/base_scs/prefab/farm/farm.ppd' at 0x7f6dc4fe6e48>,\n",
       "  'prefab_id': 'prefab.41'},\n",
       " [(<Ets2Prefab idx=81 idsii='prefab.41' filename='/home/denilson/ets2/data/base_scs/prefab/farm/farm.ppd' at 0x7f6dc4fe6e48>,\n",
       "   {'company': Ets2Company.from_csv_line(['prefab.41', -50, 65, 55, -76], None),\n",
       "    'curves': [],\n",
       "    'filename': '/home/denilson/ets2/data/base_scs/prefab/farm/farm.ppd',\n",
       "    'idsii': 'prefab.41',\n",
       "    'idx': 81,\n",
       "    'nodes': [<Ets2PrefabNode node=0 at 0x7f6dc4fe6e80>,\n",
       "     <Ets2PrefabNode node=1 at 0x7f6dc4fe6eb8>]})])"
      ]
     },
     "execution_count": 2,
     "metadata": {},
     "output_type": "execute_result"
    }
   ],
   "source": [
    "mapper = pyets2.Ets2Mapper()\n",
    "\n",
    "(\n",
    "mapper._companies_lookup[0],\n",
    "mapper._companies_lookup[0].__dict__,\n",
    "[ (x,x.__dict__) for x in mapper.prefabs_lookup if x.idsii == 'prefab.41']\n",
    ")"
   ]
  }
 ],
 "metadata": {
  "kernelspec": {
   "display_name": "Python 3",
   "language": "python",
   "name": "python3"
  },
  "language_info": {
   "codemirror_mode": {
    "name": "ipython",
    "version": 3
   },
   "file_extension": ".py",
   "mimetype": "text/x-python",
   "name": "python",
   "nbconvert_exporter": "python",
   "pygments_lexer": "ipython3",
   "version": "3.4.3+"
  }
 },
 "nbformat": 4,
 "nbformat_minor": 0
}
